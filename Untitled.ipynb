{
 "cells": [
  {
   "cell_type": "code",
   "execution_count": 1,
   "id": "f774017f",
   "metadata": {},
   "outputs": [],
   "source": [
    "from pathlib import Path "
   ]
  },
  {
   "cell_type": "code",
   "execution_count": 32,
   "id": "de39ec0a",
   "metadata": {},
   "outputs": [
    {
     "name": "stdout",
     "output_type": "stream",
     "text": [
      "assets/happy/Aal Izz Well.mp3\n"
     ]
    }
   ],
   "source": [
    "DIRECTORY = Path('./templates/assets/happy')\n",
    "for fp in DIRECTORY.glob('*.mp3'):\n",
    "    value = str(fp).replace(\"templates\\\\\", \"\")\n",
    "    path = value.replace(\"\\\\\",\"/\")\n",
    "    print(path)"
   ]
  },
  {
   "cell_type": "code",
   "execution_count": 33,
   "id": "733b6f7e",
   "metadata": {},
   "outputs": [
    {
     "data": {
      "text/plain": [
       "'assets/happy/Aal Izz Well.mp3'"
      ]
     },
     "execution_count": 33,
     "metadata": {},
     "output_type": "execute_result"
    }
   ],
   "source": [
    "path"
   ]
  },
  {
   "cell_type": "code",
   "execution_count": 37,
   "id": "b1f27b57",
   "metadata": {},
   "outputs": [],
   "source": [
    "import re\n",
    "v = re.split(path,\"/\")"
   ]
  },
  {
   "cell_type": "code",
   "execution_count": 38,
   "id": "9cbcd380",
   "metadata": {},
   "outputs": [
    {
     "data": {
      "text/plain": [
       "['/']"
      ]
     },
     "execution_count": 38,
     "metadata": {},
     "output_type": "execute_result"
    }
   ],
   "source": [
    "v"
   ]
  },
  {
   "cell_type": "code",
   "execution_count": 39,
   "id": "65d17b21",
   "metadata": {},
   "outputs": [
    {
     "data": {
      "text/plain": [
       "['assets', 'happy', 'Aal Izz Well.mp3']"
      ]
     },
     "execution_count": 39,
     "metadata": {},
     "output_type": "execute_result"
    }
   ],
   "source": [
    "path.split(\"/\")"
   ]
  },
  {
   "cell_type": "code",
   "execution_count": null,
   "id": "0a8b729d",
   "metadata": {},
   "outputs": [],
   "source": []
  }
 ],
 "metadata": {
  "kernelspec": {
   "display_name": "Python 3",
   "language": "python",
   "name": "python3"
  },
  "language_info": {
   "codemirror_mode": {
    "name": "ipython",
    "version": 3
   },
   "file_extension": ".py",
   "mimetype": "text/x-python",
   "name": "python",
   "nbconvert_exporter": "python",
   "pygments_lexer": "ipython3",
   "version": "3.6.10"
  }
 },
 "nbformat": 4,
 "nbformat_minor": 5
}
